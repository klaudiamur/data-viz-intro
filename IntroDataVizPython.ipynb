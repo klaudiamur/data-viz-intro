{
 "cells": [
  {
   "cell_type": "code",
   "execution_count": null,
   "id": "0b0456bf",
   "metadata": {},
   "outputs": [],
   "source": [
    "import numpy as np\n",
    "import pandas as pd\n",
    "import matplotlib.pyplot as plt\n",
    "import seaborn as sns"
   ]
  },
  {
   "cell_type": "markdown",
   "id": "ef52f759",
   "metadata": {},
   "source": [
    "## Let's start with some simple plots with Matplotlib!"
   ]
  },
  {
   "cell_type": "code",
   "execution_count": null,
   "id": "b9773669",
   "metadata": {},
   "outputs": [],
   "source": [
    "### scatter plot\n",
    "\n",
    "# Create the data\n",
    "x = [1, 2, 3, 4, 5]\n",
    "y = [2, 4, 5, 7, 9]\n",
    "\n",
    "# Create the scatter plot\n",
    "plt.scatter(x, y)\n",
    "\n",
    "# Add axis labels and title\n",
    "plt.xlabel('X')\n",
    "plt.ylabel('Y')\n",
    "plt.title('Simple Scatter Plot')\n",
    "\n",
    "# Show the plot\n",
    "plt.show()"
   ]
  },
  {
   "cell_type": "code",
   "execution_count": null,
   "id": "6098347d",
   "metadata": {},
   "outputs": [],
   "source": [
    "### Pie chart\n",
    "\n",
    "# Create the data for the pie chart\n",
    "labels = ['Apples', 'Bananas', 'Cherries', 'Dates']\n",
    "sizes = [30, 40, 10, 20]\n",
    "\n",
    "# Create the pie chart\n",
    "plt.pie(sizes, labels=labels)\n",
    "\n",
    "# Add title\n",
    "plt.title('Simple Pie Chart')\n",
    "\n",
    "# Show the plot\n",
    "plt.show()"
   ]
  },
  {
   "cell_type": "code",
   "execution_count": null,
   "id": "edeedf81",
   "metadata": {},
   "outputs": [],
   "source": [
    "### Custom colors\n",
    "\n",
    "# Create the data for the pie chart\n",
    "labels = ['Apples', 'Bananas', 'Cherries', 'Dates']\n",
    "sizes = [30, 40, 10, 20]\n",
    "#colors = ['green', 'orange', 'red', 'brown']\n",
    "#colors = ['g', 'm', 'r', 'b']\n",
    "colors = ['#E01FDD', '#E0821F', '#1FE022', '#1F7DE0']\n",
    "\n",
    "# Create the pie chart\n",
    "plt.pie(sizes, labels=labels, colors=colors,)\n",
    "\n",
    "# Add title\n",
    "plt.title('Simple Pie Chart')\n",
    "\n",
    "# Add legend\n",
    "plt.legend(labels)\n",
    "\n",
    "# Show the plot\n",
    "plt.show()"
   ]
  },
  {
   "cell_type": "code",
   "execution_count": null,
   "id": "8cb90224",
   "metadata": {},
   "outputs": [],
   "source": [
    "# Create the bar chart\n",
    "plt.bar(labels, sizes)\n",
    "\n",
    "# Add axis labels and title\n",
    "plt.xlabel('Fruit')\n",
    "plt.ylabel('Amount')\n",
    "plt.title('Simple Bar Chart')\n",
    "\n",
    "# Show the plot\n",
    "plt.show()"
   ]
  },
  {
   "cell_type": "code",
   "execution_count": null,
   "id": "adbf8f56",
   "metadata": {},
   "outputs": [],
   "source": [
    "### Line plots\n",
    "# Generate some data\n",
    "x = np.linspace(0, 10, 100) # x is an array (list)\n",
    "y = np.sin(x) # y is in array (list) with same length as x\n",
    "\n",
    "# Plot the data with Matplotlib\n",
    "plt.plot(x, y)\n",
    "plt.xlabel('X axis')\n",
    "plt.ylabel('Y axis')\n",
    "plt.title('Sine Wave')\n",
    "plt.show()"
   ]
  },
  {
   "cell_type": "code",
   "execution_count": null,
   "id": "27efdc79",
   "metadata": {},
   "outputs": [],
   "source": [
    "### Several plots in one\n",
    "# Generate some data\n",
    "x = np.linspace(0, 10, 100) # x is an array (list)\n",
    "y1 = np.sin(x) # y is in array (list) with same length as x\n",
    "y2 = np.cos(x)\n",
    "\n",
    "# Plot the data with Matplotlib\n",
    "plt.plot(x, y1)\n",
    "plt.plot(x, y2)\n",
    "plt.xlabel('X axis')\n",
    "plt.ylabel('Y axis')\n",
    "plt.title('Sine and Cos Wave')\n",
    "plt.show()"
   ]
  },
  {
   "cell_type": "code",
   "execution_count": null,
   "id": "095cd977",
   "metadata": {},
   "outputs": [],
   "source": [
    "### Picking colors and adding legends\n",
    "# Generate some data\n",
    "x = np.linspace(0, 10, 100) # x is an array (list)\n",
    "y1 = np.sin(x) # y is in array (list) with same length as x\n",
    "y2 = np.cos(x)\n",
    "\n",
    "# Plot the data with Matplotlib\n",
    "plt.plot(x, y1, color='red')\n",
    "plt.plot(x, y2, color='blue')\n",
    "plt.xlabel('X axis')\n",
    "plt.ylabel('Y axis')\n",
    "plt.legend(['sin', 'cos'])\n",
    "plt.title('Sine and Cos Wave')\n",
    "plt.show()"
   ]
  },
  {
   "cell_type": "code",
   "execution_count": null,
   "id": "7b2b816d",
   "metadata": {},
   "outputs": [],
   "source": [
    "### Trendlines (line plot and scatter plot in the same plot)\n",
    "\n",
    "# generate some example data\n",
    "x = np.arange(10)\n",
    "y = np.random.random(10)\n",
    "\n",
    "# plot the scatter plot\n",
    "plt.scatter(x, y, c='blue')\n",
    "\n",
    "# perform linear regression\n",
    "slope, intercept = np.polyfit(x, y, 1)\n",
    "\n",
    "# plot the trendline\n",
    "plt.plot(x, slope * x + intercept, c='r')\n",
    "\n",
    "# add labels and a legend\n",
    "plt.xlabel('x')\n",
    "plt.ylabel('y')\n",
    "plt.legend(['data', 'trendline'])\n",
    "\n",
    "# display the plot\n",
    "plt.show()"
   ]
  },
  {
   "cell_type": "markdown",
   "id": "d3503caf",
   "metadata": {},
   "source": [
    "### Let's explore some dataset!"
   ]
  },
  {
   "cell_type": "code",
   "execution_count": null,
   "id": "40550897",
   "metadata": {},
   "outputs": [],
   "source": [
    "## load the iris dataset\n",
    "\n",
    "iris = pd.read_csv('https://archive.ics.uci.edu/ml/machine-learning-databases/iris/iris.data',\n",
    "                      names=['sepal_length', 'sepal_width', 'petal_length', 'petal_width', 'class'])"
   ]
  },
  {
   "cell_type": "code",
   "execution_count": null,
   "id": "461a4dbf",
   "metadata": {},
   "outputs": [],
   "source": [
    "## inspect it\n",
    "iris.info()\n",
    "iris.head()"
   ]
  },
  {
   "cell_type": "markdown",
   "id": "c54fc64a",
   "metadata": {},
   "source": [
    "## TO DO: create a scatter plot, with sepal_length and petal_length on the x- and y-axis, respecitvely. \n",
    "\n",
    "#### - What parameters can you change to make the plot look differently? (https://matplotlib.org/stable/api/_as_gen/matplotlib.pyplot.scatter.html)\n",
    "\n",
    "#### - extra: Can you change the size of the dot so that it corresponds to petal_width?\n",
    "#### - Can you change the color so every class has it's own color?\n"
   ]
  },
  {
   "cell_type": "code",
   "execution_count": null,
   "id": "0472d140",
   "metadata": {},
   "outputs": [],
   "source": [
    "### your code here ....\n"
   ]
  },
  {
   "cell_type": "markdown",
   "id": "d08a6a1a",
   "metadata": {},
   "source": [
    "## TO DO: create a pie plot with the number of entities in every class. \n",
    "#### Transform the same data into a bar chart. "
   ]
  },
  {
   "cell_type": "code",
   "execution_count": null,
   "id": "a6e5b2d1",
   "metadata": {},
   "outputs": [],
   "source": [
    "## your code here ....\n"
   ]
  },
  {
   "cell_type": "markdown",
   "id": "9f423e69",
   "metadata": {},
   "source": [
    "## 3D data"
   ]
  },
  {
   "cell_type": "code",
   "execution_count": null,
   "id": "67d32318",
   "metadata": {},
   "outputs": [],
   "source": [
    "flights = sns.load_dataset(\"flights\")"
   ]
  },
  {
   "cell_type": "code",
   "execution_count": null,
   "id": "20166673",
   "metadata": {},
   "outputs": [],
   "source": [
    "flights"
   ]
  },
  {
   "cell_type": "code",
   "execution_count": null,
   "id": "5c3e8bee",
   "metadata": {},
   "outputs": [],
   "source": [
    "plt.bar(flights['month'], flights['passengers'])\n",
    "plt.show()"
   ]
  },
  {
   "cell_type": "code",
   "execution_count": null,
   "id": "ec6e2469",
   "metadata": {},
   "outputs": [],
   "source": [
    "flights = flights.pivot(\"month\", \"year\", \"passengers\")"
   ]
  },
  {
   "cell_type": "code",
   "execution_count": null,
   "id": "11b1f97f",
   "metadata": {},
   "outputs": [],
   "source": [
    "flights"
   ]
  },
  {
   "cell_type": "code",
   "execution_count": null,
   "id": "c3cd2311",
   "metadata": {},
   "outputs": [],
   "source": [
    "plt.imshow(flights, cmap=\"YlGnBu\")\n",
    "plt.colorbar()\n",
    "plt.xlabel(\"Year\")\n",
    "plt.ylabel(\"Month\")\n",
    "plt.title(\"Passenger Traffic\")\n",
    "plt.show()"
   ]
  },
  {
   "cell_type": "code",
   "execution_count": null,
   "id": "7b42106b",
   "metadata": {},
   "outputs": [],
   "source": [
    "months = flights.index.values\n",
    "years = flights.columns.values\n",
    "\n",
    "plt.imshow(flights, cmap=\"YlGnBu\")\n",
    "plt.colorbar()\n",
    "plt.xlabel(\"Year\")\n",
    "plt.ylabel(\"Month\")\n",
    "plt.xticks(ticks = range(len(years)),labels=years, rotation=-30)\n",
    "plt.yticks(ticks = range(len(months)),labels=months)\n",
    "plt.title(\"Passenger Traffic\")\n",
    "plt.show()"
   ]
  },
  {
   "cell_type": "markdown",
   "id": "feea5800",
   "metadata": {},
   "source": [
    "# Part 2:\n",
    "\n",
    "### Using seaborn to explore (large) datasets"
   ]
  },
  {
   "cell_type": "code",
   "execution_count": null,
   "id": "59834f7b",
   "metadata": {},
   "outputs": [],
   "source": [
    "iris.head()"
   ]
  },
  {
   "cell_type": "code",
   "execution_count": null,
   "id": "41fd2bb2",
   "metadata": {},
   "outputs": [],
   "source": [
    "## distributions\n",
    "# Plot distribution: histogram\n",
    "sns.histplot(data=iris, x='petal_length')\n",
    "plt.show()"
   ]
  },
  {
   "cell_type": "code",
   "execution_count": null,
   "id": "5cdd57cf",
   "metadata": {},
   "outputs": [],
   "source": [
    "# density distribution\n",
    "sns.displot(iris, x=\"petal_length\", kind=\"kde\")"
   ]
  },
  {
   "cell_type": "code",
   "execution_count": null,
   "id": "0151964d",
   "metadata": {},
   "outputs": [],
   "source": [
    "# calculate the correlation matrix\n",
    "corr = iris.corr()\n",
    "\n",
    "# visualize it as a heat plot\n",
    "\n",
    "sns.heatmap(corr, annot=True)\n",
    "plt.show()"
   ]
  },
  {
   "cell_type": "code",
   "execution_count": null,
   "id": "8750322a",
   "metadata": {},
   "outputs": [],
   "source": [
    "# set the range of the axes to -1, 1 and change the colormap\n",
    "\n",
    "sns.heatmap(corr, annot=True, cmap='coolwarm', vmin=-1, vmax=1)\n",
    "plt.show()"
   ]
  },
  {
   "cell_type": "code",
   "execution_count": null,
   "id": "bca1c70e",
   "metadata": {},
   "outputs": [],
   "source": [
    "x = iris['petal_length']\n",
    "y = iris['sepal_width']\n",
    "\n",
    "plt.scatter(x, y,)\n",
    "plt.show()"
   ]
  },
  {
   "cell_type": "code",
   "execution_count": null,
   "id": "a55ae4c6",
   "metadata": {},
   "outputs": [],
   "source": [
    "## plot only part of the dataset\n",
    "\n",
    "# plotting only points with petal_length < 2:\n",
    "\n",
    "plt.scatter(x=iris.loc[iris[\"petal_length\"] < 2, \"petal_length\"],\n",
    "            y=iris.loc[iris[\"petal_length\"] < 2, \"sepal_length\"])\n",
    "\n",
    "plt.xlabel(\"Sepal Length\")\n",
    "plt.ylabel(\"Petal Length\")\n",
    "plt.title(\"Scatter plot of Sepal Length vs. Petal Length\")\n",
    "plt.show()"
   ]
  },
  {
   "cell_type": "code",
   "execution_count": null,
   "id": "e8310cec",
   "metadata": {},
   "outputs": [],
   "source": [
    "## plot only part of the dataset\n",
    "\n",
    "## ... or plot just a sample of 20 rows\n",
    "\n",
    "subset = iris.sample(n=20)\n",
    "\n",
    "# Create a scatter plot of sepal length vs. sepal width for the subset of data\n",
    "plt.scatter(subset[\"sepal_length\"], subset[\"sepal_width\"])\n",
    "\n",
    "# Set the title and axis labels\n",
    "plt.title(\"Random Subset of Iris Data\")\n",
    "plt.xlabel(\"Sepal Length (cm)\")\n",
    "plt.ylabel(\"Sepal Width (cm)\")\n",
    "\n",
    "# Display the plot\n",
    "plt.show()"
   ]
  },
  {
   "cell_type": "code",
   "execution_count": null,
   "id": "46917f18",
   "metadata": {},
   "outputs": [],
   "source": [
    "# use pairplot for pairwise plots between all the numerical variables in a dataset\n",
    "sns.pairplot(iris, hue=\"class\")\n",
    "plt.show()"
   ]
  },
  {
   "cell_type": "markdown",
   "id": "54c70f2d",
   "metadata": {},
   "source": [
    "## Try it yourself!\n",
    "### using the \"wine\" dataset (or any dataset of your choice)\n",
    "\n",
    "### - inspect the dataset, number of features, distribution, ...\n",
    "### - find two features that have high correlation. Plot them as a scatter plot. What can you see?\n",
    "### - find two features that have low correlation. Plot them as a scatter plot. What is different here?\n",
    "### - plot a subset of the data, use filters."
   ]
  },
  {
   "cell_type": "code",
   "execution_count": null,
   "id": "ab87e0f2",
   "metadata": {},
   "outputs": [],
   "source": [
    "wine = pd.read_csv('https://archive.ics.uci.edu/ml/machine-learning-databases/wine/wine.data', header = None)\n",
    "\n",
    "col_names = ['Class', 'Alcohol', 'Malic acid', 'Ash', 'Alcalinity of ash', 'Magnesium', 'Total phenols',\n",
    "             'Flavanoids', 'Nonflavanoid phenols', 'Proanthocyanins', 'Color intensity', 'Hue',\n",
    "             'OD280/OD315 of diluted wines', 'Proline']\n",
    "wine.columns = col_names\n"
   ]
  }
 ],
 "metadata": {
  "kernelspec": {
   "display_name": "Python 3 (ipykernel)",
   "language": "python",
   "name": "python3"
  },
  "language_info": {
   "codemirror_mode": {
    "name": "ipython",
    "version": 3
   },
   "file_extension": ".py",
   "mimetype": "text/x-python",
   "name": "python",
   "nbconvert_exporter": "python",
   "pygments_lexer": "ipython3",
   "version": "3.9.13"
  }
 },
 "nbformat": 4,
 "nbformat_minor": 5
}
